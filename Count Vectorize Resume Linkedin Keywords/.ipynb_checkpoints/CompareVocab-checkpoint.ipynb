{
 "cells": [
  {
   "cell_type": "code",
   "execution_count": 1,
   "id": "8ff730b1",
   "metadata": {},
   "outputs": [],
   "source": [
    "import json"
   ]
  },
  {
   "cell_type": "code",
   "execution_count": 2,
   "id": "541436f8",
   "metadata": {},
   "outputs": [],
   "source": [
    "with open('./ResumeCountVecVocab.txt', 'r') as d:\n",
    "    ResumeData = json.load(d)"
   ]
  },
  {
   "cell_type": "code",
   "execution_count": 3,
   "id": "6dae8185",
   "metadata": {},
   "outputs": [],
   "source": [
    "with open('./JobsCountVecVocab.txt', 'r') as d:\n",
    "    JobsData = json.load(d)"
   ]
  },
  {
   "cell_type": "code",
   "execution_count": 11,
   "id": "cafa2adb",
   "metadata": {},
   "outputs": [],
   "source": [
    "intersection = {x : ResumeData[x] for x in ResumeData if x in JobsData}"
   ]
  },
  {
   "cell_type": "code",
   "execution_count": 12,
   "id": "22b328ed",
   "metadata": {},
   "outputs": [
    {
     "name": "stdout",
     "output_type": "stream",
     "text": [
      "912\n",
      "3708\n",
      "1179\n"
     ]
    }
   ],
   "source": [
    "print(len(intersection))\n",
    "print(len(ResumeData))\n",
    "print(len(JobsData))\n"
   ]
  }
 ],
 "metadata": {
  "kernelspec": {
   "display_name": "Python 3 (ipykernel)",
   "language": "python",
   "name": "python3"
  },
  "language_info": {
   "codemirror_mode": {
    "name": "ipython",
    "version": 3
   },
   "file_extension": ".py",
   "mimetype": "text/x-python",
   "name": "python",
   "nbconvert_exporter": "python",
   "pygments_lexer": "ipython3",
   "version": "3.9.12"
  }
 },
 "nbformat": 4,
 "nbformat_minor": 5
}
